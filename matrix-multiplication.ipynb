{
 "metadata": {
  "name": "",
  "signature": "sha256:dc0063b90a7b470488eed4f39358139f659157c4c13dd7f8ff9a1c965a131223"
 },
 "nbformat": 3,
 "nbformat_minor": 0,
 "worksheets": [
  {
   "cells": [
    {
     "cell_type": "heading",
     "level": 1,
     "metadata": {},
     "source": [
      "Matrix Multiplication: Motivation and simple applications"
     ]
    },
    {
     "cell_type": "markdown",
     "metadata": {},
     "source": [
      "* [Motivation of the definition of matrix multiplication](#Motivation-of-the-definition-of-matrix-multiplication)\n",
      "* [Some applications of matrix multiplication](#Some-applications-of-matrix-multiplication)\n",
      "    - [Counting routes](#Counting-routes)\n",
      "    - [Transformation matrices for 2D arrays](#Transformation-matrices-for-2D-arrays)\n",
      "    - [Matrices and probabilities](#Matrices-and-probabilities)\n",
      "    - [Population model with age distribution](#Population-model-with-age-distribution)\n",
      "* [References](#References)"
     ]
    },
    {
     "cell_type": "markdown",
     "metadata": {},
     "source": [
      "Perform the necessary imports and initializations:"
     ]
    },
    {
     "cell_type": "code",
     "collapsed": false,
     "input": [
      "import sympy\n",
      "import numpy as np\n",
      "import networkx as nx\n",
      "import matplotlib.pyplot as plt\n",
      "import pandas as pd\n",
      "import itertools\n",
      "from IPython.display import display\n",
      "from __future__ import division\n",
      "\n",
      "sympy.init_printing(use_latex='mathjax')\n",
      "plt.style.use('ggplot')"
     ],
     "language": "python",
     "metadata": {},
     "outputs": [],
     "prompt_number": 1
    },
    {
     "cell_type": "code",
     "collapsed": false,
     "input": [
      "%matplotlib inline"
     ],
     "language": "python",
     "metadata": {},
     "outputs": [],
     "prompt_number": 2
    },
    {
     "cell_type": "heading",
     "level": 2,
     "metadata": {},
     "source": [
      "Motivation of the definition of matrix multiplication"
     ]
    },
    {
     "cell_type": "markdown",
     "metadata": {},
     "source": [
      "The definition of matrix multiplication naturally arises from composing linear functions or, as they are usually called, linear transformations.\n",
      "\n",
      "Consider two such linear transformations from $\\mathbb{R}^2$ to $\\mathbb{R}^2$:\n",
      "\n",
      "$$T_1 \\colon (x_1, x_2) \\mapsto (ax_1 + bx_2, cx_1 + dx_2)$$\n",
      "$$T_2 \\colon (x_1, x_2) \\mapsto (Ax_1 + Bx_2, Cx_1 + Dx_2)$$\n",
      "\n",
      "What if we wanted to compose these two linear transformations? In other words, what if we wanted another linear transformation $T_3 = T_1 \\circ T_2$? We could do it manually:\n",
      "\n",
      "$$T_3\\begin{pmatrix} x_1 \\\\ x_2 \\end{pmatrix} = T_1\\left(T_2\\begin{pmatrix} x_1 \\\\ x_2 \\end{pmatrix}\\right) =  T_1\\begin{pmatrix} Ax_1 + Bx_2 \\\\ Cx_1 + Dx_2 \\end{pmatrix} = \\\\ \\begin{pmatrix} a(Ax_1 + Bx_2) + b(Cx_1 + Dx_2) \\\\ c(Ax_1 + Bx_2) + d(Cx_1 + Dx_2) \\end{pmatrix} = \\begin{pmatrix} aAx_1 + aBx_2 + bCx_1 + bDx_2 \\\\ cAx_1 + cBx_2 + dCx_1 + dDx_2 \\end{pmatrix} = \\begin{pmatrix} (aA + bC)x_1 + (aB + bD)x_2 \\\\ (cA + dC)x_1 + (cB + dD)x_2 \\end{pmatrix}$$"
     ]
    },
    {
     "cell_type": "markdown",
     "metadata": {},
     "source": [
      "Or we could use matrices of coefficients to represent these linear transformations. Multiplying the column $\\begin{pmatrix} x_1 \\\\ x_2 \\end{pmatrix}$ by the respective matrices $\\begin{pmatrix}a & b\\\\c & d\\end{pmatrix}$ and $\\begin{pmatrix}A & B\\\\C & D\\end{pmatrix}$ produces the desired output:"
     ]
    },
    {
     "cell_type": "code",
     "collapsed": false,
     "input": [
      "a, b, c, d, A, B, C, D = sympy.symbols('a, b, c, d, A, B, C, D')\n",
      "x1, x2 = sympy.symbols('x1, x2')\n",
      "\n",
      "T1 = sympy.Matrix([[a, b], [c, d]])\n",
      "T2 = sympy.Matrix([[A, B], [C, D]])\n",
      "xs = sympy.Matrix([[x1], [x2]])\n",
      "\n",
      "display(T1 * xs)\n",
      "display(T2 * xs)"
     ],
     "language": "python",
     "metadata": {},
     "outputs": [
      {
       "latex": [
        "$$\\left[\\begin{matrix}a x_{1} + b x_{2}\\\\c x_{1} + d x_{2}\\end{matrix}\\right]$$"
       ],
       "metadata": {},
       "output_type": "display_data",
       "text": [
        "\u23a1a\u22c5x\u2081 + b\u22c5x\u2082\u23a4\n",
        "\u23a2           \u23a5\n",
        "\u23a3c\u22c5x\u2081 + d\u22c5x\u2082\u23a6"
       ]
      },
      {
       "latex": [
        "$$\\left[\\begin{matrix}A x_{1} + B x_{2}\\\\C x_{1} + D x_{2}\\end{matrix}\\right]$$"
       ],
       "metadata": {},
       "output_type": "display_data",
       "text": [
        "\u23a1A\u22c5x\u2081 + B\u22c5x\u2082\u23a4\n",
        "\u23a2           \u23a5\n",
        "\u23a3C\u22c5x\u2081 + D\u22c5x\u2082\u23a6"
       ]
      }
     ],
     "prompt_number": 3
    },
    {
     "cell_type": "markdown",
     "metadata": {},
     "source": [
      "The matrix of the composition $T_1 \\circ T_2$ is then precisely the product of the matrices of the individual linear transformations $T_1$ and $T_2$:"
     ]
    },
    {
     "cell_type": "code",
     "collapsed": false,
     "input": [
      "display(T1 * T2)"
     ],
     "language": "python",
     "metadata": {},
     "outputs": [
      {
       "latex": [
        "$$\\left[\\begin{matrix}A a + C b & B a + D b\\\\A c + C d & B c + D d\\end{matrix}\\right]$$"
       ],
       "metadata": {},
       "output_type": "display_data",
       "text": [
        "\u23a1A\u22c5a + C\u22c5b  B\u22c5a + D\u22c5b\u23a4\n",
        "\u23a2                    \u23a5\n",
        "\u23a3A\u22c5c + C\u22c5d  B\u22c5c + D\u22c5d\u23a6"
       ]
      }
     ],
     "prompt_number": 4
    },
    {
     "cell_type": "heading",
     "level": 2,
     "metadata": {},
     "source": [
      "Some applications of matrix multiplication"
     ]
    },
    {
     "cell_type": "heading",
     "level": 3,
     "metadata": {},
     "source": [
      "Counting routes"
     ]
    },
    {
     "cell_type": "markdown",
     "metadata": {},
     "source": [
      "Suppose we have four cities $A$, $B$, $C$ and $D$. Each city is connected to some other cities by directed routes, as shown by the graph below:"
     ]
    },
    {
     "cell_type": "code",
     "collapsed": false,
     "input": [
      "G = nx.DiGraph()\n",
      "G.add_edges_from([('A', 'B'), ('B', 'C'), ('C', 'D'), ('D', 'A'), ('A', 'C'), ('C', 'A')])\n",
      "pos = {'A': (0, 1), 'B': (1, 1), 'C': (1, 0), 'D': (0, 0)}\n",
      "nx.draw_networkx_labels(G, pos, font_size=18, font_family='sans-serif')\n",
      "nx.draw(G, pos, node_size=1500, node_color='yellowgreen')"
     ],
     "language": "python",
     "metadata": {},
     "outputs": [
      {
       "metadata": {},
       "output_type": "display_data",
       "png": "[encoded data removed]",
       "text": [
        "<matplotlib.figure.Figure at 0x14f75358>"
       ]
      }
     ],
     "prompt_number": 5
    },
    {
     "cell_type": "markdown",
     "metadata": {},
     "source": [
      "How many routes of length $n$ are there from a given city to a second city? We can answer this question by raising the [adjacency matrix](http://en.wikipedia.org/wiki/Adjacency_matrix) of the graph to the $n$th power. In the adjacency matrix, the $i$,$j$th entry is $1$ if there is a route from city $i$ to city $j$, and $0$ if not. Set $A \\mapsto 0$, $B \\mapsto 1$ (and so on) in our graph and extract the adjacency matrix:"
     ]
    },
    {
     "cell_type": "code",
     "collapsed": false,
     "input": [
      "def prettify(m, names=None):\n",
      "    pm = pd.DataFrame(m)\n",
      "    if names is not None:\n",
      "        pm.columns, pm.index = [names] * 2\n",
      "    return pm\n",
      "\n",
      "cities = ['A', 'B', 'C', 'D']\n",
      "A = nx.adjacency_matrix(G, nodelist=cities).todense()\n",
      "\n",
      "display(prettify(A, cities))"
     ],
     "language": "python",
     "metadata": {},
     "outputs": [
      {
       "html": [
        "<div style=\"max-height:1000px;max-width:1500px;overflow:auto;\">\n",
        "<table border=\"1\" class=\"dataframe\">\n",
        "  <thead>\n",
        "    <tr style=\"text-align: right;\">\n",
        "      <th></th>\n",
        "      <th>A</th>\n",
        "      <th>B</th>\n",
        "      <th>C</th>\n",
        "      <th>D</th>\n",
        "    </tr>\n",
        "  </thead>\n",
        "  <tbody>\n",
        "    <tr>\n",
        "      <th>A</th>\n",
        "      <td> 0</td>\n",
        "      <td> 1</td>\n",
        "      <td> 1</td>\n",
        "      <td> 0</td>\n",
        "    </tr>\n",
        "    <tr>\n",
        "      <th>B</th>\n",
        "      <td> 0</td>\n",
        "      <td> 0</td>\n",
        "      <td> 1</td>\n",
        "      <td> 0</td>\n",
        "    </tr>\n",
        "    <tr>\n",
        "      <th>C</th>\n",
        "      <td> 1</td>\n",
        "      <td> 0</td>\n",
        "      <td> 0</td>\n",
        "      <td> 1</td>\n",
        "    </tr>\n",
        "    <tr>\n",
        "      <th>D</th>\n",
        "      <td> 1</td>\n",
        "      <td> 0</td>\n",
        "      <td> 0</td>\n",
        "      <td> 0</td>\n",
        "    </tr>\n",
        "  </tbody>\n",
        "</table>\n",
        "</div>"
       ],
       "metadata": {},
       "output_type": "display_data",
       "text": [
        "   A  B  C  D\n",
        "A  0  1  1  0\n",
        "B  0  0  1  0\n",
        "C  1  0  0  1\n",
        "D  1  0  0  0"
       ]
      }
     ],
     "prompt_number": 6
    },
    {
     "cell_type": "markdown",
     "metadata": {},
     "source": [
      "And now, how many routes of length exactly $10$ are there from $A$ to $B$? Apparently, twenty-eight:"
     ]
    },
    {
     "cell_type": "code",
     "collapsed": false,
     "input": [
      "display(prettify(np.linalg.matrix_power(A, 10), cities))"
     ],
     "language": "python",
     "metadata": {},
     "outputs": [
      {
       "html": [
        "<div style=\"max-height:1000px;max-width:1500px;overflow:auto;\">\n",
        "<table border=\"1\" class=\"dataframe\">\n",
        "  <thead>\n",
        "    <tr style=\"text-align: right;\">\n",
        "      <th></th>\n",
        "      <th>A</th>\n",
        "      <th>B</th>\n",
        "      <th>C</th>\n",
        "      <th>D</th>\n",
        "    </tr>\n",
        "  </thead>\n",
        "  <tbody>\n",
        "    <tr>\n",
        "      <th>A</th>\n",
        "      <td> 44</td>\n",
        "      <td> 28</td>\n",
        "      <td> 45</td>\n",
        "      <td> 27</td>\n",
        "    </tr>\n",
        "    <tr>\n",
        "      <th>B</th>\n",
        "      <td> 27</td>\n",
        "      <td> 17</td>\n",
        "      <td> 28</td>\n",
        "      <td> 17</td>\n",
        "    </tr>\n",
        "    <tr>\n",
        "      <th>C</th>\n",
        "      <td> 45</td>\n",
        "      <td> 27</td>\n",
        "      <td> 44</td>\n",
        "      <td> 28</td>\n",
        "    </tr>\n",
        "    <tr>\n",
        "      <th>D</th>\n",
        "      <td> 28</td>\n",
        "      <td> 17</td>\n",
        "      <td> 27</td>\n",
        "      <td> 17</td>\n",
        "    </tr>\n",
        "  </tbody>\n",
        "</table>\n",
        "</div>"
       ],
       "metadata": {},
       "output_type": "display_data",
       "text": [
        "    A   B   C   D\n",
        "A  44  28  45  27\n",
        "B  27  17  28  17\n",
        "C  45  27  44  28\n",
        "D  28  17  27  17"
       ]
      }
     ],
     "prompt_number": 7
    },
    {
     "cell_type": "heading",
     "level": 3,
     "metadata": {},
     "source": [
      "Transformation matrices for 2D arrays"
     ]
    },
    {
     "cell_type": "markdown",
     "metadata": {},
     "source": [
      "[Transformation matrices](http://en.wikipedia.org/wiki/Transformation_matrix) can be used to illustrate the noncommutative property of matrix multiplication. Rotating and then reflecting about the $x$-axis is not the same as reflecting about the $x$-axis and then rotating."
     ]
    },
    {
     "cell_type": "code",
     "collapsed": false,
     "input": [
      "original = np.array([[0, -1, 1, 0],    # xs\n",
      "                     [3, -1, -1, 3]])  # ys\n",
      "\n",
      "theta = np.deg2rad(-45)\n",
      "rotation_matrix = np.array([[np.cos(theta), -np.sin(theta)],\n",
      "                            [np.sin(theta), np.cos(theta)]])\n",
      "reflection_matrix = np.array([[1, 0],\n",
      "                              [0, -1]])\n",
      "\n",
      "rotated = rotation_matrix.dot(original)\n",
      "reflected_and_rotated = rotation_matrix.dot(reflection_matrix).dot(original)\n",
      "rotated_and_reflected = reflection_matrix.dot(rotation_matrix).dot(original)\n",
      "\n",
      "titles = ['Original', 'Rotated', 'Reflected and rotated', 'Rotated and reflected']\n",
      "xys = [original, rotated, reflected_and_rotated, rotated_and_reflected]\n",
      "\n",
      "for i, (title, xy) in enumerate(zip(titles, xys)):\n",
      "    plt.subplot(2, 2, i + 1, aspect='equal')\n",
      "    plt.plot(xy[0], xy[1], 'o-')\n",
      "    plt.axis([-4, 4, -4, 4])\n",
      "    plt.title(title)\n",
      "\n",
      "plt.tight_layout()"
     ],
     "language": "python",
     "metadata": {},
     "outputs": [
      {
       "metadata": {},
       "output_type": "display_data",
       "png": "[encoded data removed]",
       "text": [
        "<matplotlib.figure.Figure at 0x14f8b8d0>"
       ]
      }
     ],
     "prompt_number": 8
    },
    {
     "cell_type": "heading",
     "level": 3,
     "metadata": {},
     "source": [
      "Matrices and probabilities"
     ]
    },
    {
     "cell_type": "markdown",
     "metadata": {},
     "source": [
      "As a variant of the problem of counting routes, consider transition matrices associated with weighted graphs. Suppose we have three books on a shelf: _A Treatise on the Binomial Theorem_, _The Book of Sand_, and _The Prima Arcanata_. Each time we enjoy one of these books, we put it back on the shelf at the far right. Consider a map of these books to $\\{1,2,3\\}$, respectively. There are six possible arrangements:"
     ]
    },
    {
     "cell_type": "code",
     "collapsed": false,
     "input": [
      "arrangements = [''.join(x) for x in itertools.permutations('123', 3)]\n",
      "print arrangements"
     ],
     "language": "python",
     "metadata": {},
     "outputs": [
      {
       "output_type": "stream",
       "stream": "stdout",
       "text": [
        "['123', '132', '213', '231', '312', '321']\n"
       ]
      }
     ],
     "prompt_number": 9
    },
    {
     "cell_type": "markdown",
     "metadata": {},
     "source": [
      "When we want to read one of the books, the probability that we want to read the _Treatise_ is $\\frac{2}{3}$, the probability that we want to read _The Book of Sand_ is $\\frac{1}{4}$, and the probability that we want to read _The Prima Arcanata_ is $\\frac{1}{12}$. Let's construct the $6 \\times 6$ [stochastic matrix](http://en.wikipedia.org/wiki/Stochastic_matrix):"
     ]
    },
    {
     "cell_type": "code",
     "collapsed": false,
     "input": [
      "probability_dict = {'1': 2/3, '2': 1/4, '3': 1/12}\n",
      "\n",
      "def compute_cell((x1, x2, x3), y):\n",
      "    xs = [''.join(x) for x in [(x1, x2, x3), (x1, x3, x2), (x2, x3, x1)]]\n",
      "    return probability_dict[y[2]] if y in xs else 0\n",
      "        \n",
      "\n",
      "transition_matrix = np.array([[compute_cell(x, y) for y in arrangements] for x in arrangements])\n",
      "\n",
      "print prettify(transition_matrix, arrangements)"
     ],
     "language": "python",
     "metadata": {},
     "outputs": [
      {
       "output_type": "stream",
       "stream": "stdout",
       "text": [
        "          123   132       213       231   312       321\n",
        "123  0.083333  0.25  0.000000  0.666667  0.00  0.000000\n",
        "132  0.083333  0.25  0.000000  0.000000  0.00  0.666667\n",
        "213  0.000000  0.25  0.083333  0.666667  0.00  0.000000\n",
        "231  0.000000  0.00  0.083333  0.666667  0.25  0.000000\n",
        "312  0.083333  0.00  0.000000  0.000000  0.25  0.666667\n",
        "321  0.000000  0.00  0.083333  0.000000  0.25  0.666667\n"
       ]
      }
     ],
     "prompt_number": 10
    },
    {
     "cell_type": "markdown",
     "metadata": {},
     "source": [
      "Suppose now that we start from some specific arrangement, say, $(2,3,1)$. What are the probabilities of the individual arrangements after we have read four books?"
     ]
    },
    {
     "cell_type": "code",
     "collapsed": false,
     "input": [
      "print prettify(np.linalg.matrix_power(transition_matrix, 4), arrangements)"
     ],
     "language": "python",
     "metadata": {},
     "outputs": [
      {
       "output_type": "stream",
       "stream": "stdout",
       "text": [
        "          123       132       213       231       312       321\n",
        "123  0.022762  0.031250  0.060571  0.314815  0.218750  0.351852\n",
        "132  0.022762  0.031250  0.060571  0.117284  0.218750  0.549383\n",
        "213  0.022714  0.031250  0.060619  0.314815  0.218750  0.351852\n",
        "231  0.022714  0.027344  0.060619  0.314815  0.222656  0.351852\n",
        "312  0.022762  0.027344  0.060571  0.117284  0.222656  0.549383\n",
        "321  0.022714  0.027344  0.060619  0.117284  0.222656  0.549383\n"
       ]
      }
     ],
     "prompt_number": 11
    },
    {
     "cell_type": "markdown",
     "metadata": {},
     "source": [
      "These probabilities are in the `231` row. It is easy to verify that they sum to unity."
     ]
    },
    {
     "cell_type": "heading",
     "level": 3,
     "metadata": {},
     "source": [
      "Population model with age distribution"
     ]
    },
    {
     "cell_type": "markdown",
     "metadata": {},
     "source": [
      "Consider a simplified model of an isolated, age-structured population where the changes are due to birth and death alone \u2014 the so-called [Leslie matrix](http://en.wikipedia.org/wiki/Leslie_matrix) model. Suppose we have a population where each individual lives up to at most $50$ years, subdivided into age groups of $[0,10)$, $[10,20)$, $[20,30)$, $[30,40)$, and $[40,50]$. Assume the mortality rates for these groups are $0.7$, $0.2$, $0.3$, $0.5$, and $0.8$; and assume the reproduction rates for these groups are $0.0$, $0.4$, $0.3$, $0.1$, and $0.0$. Then, given a column of $x$-values that measures the population at a given time, we can get the structure of the population $10$ years later:"
     ]
    },
    {
     "cell_type": "code",
     "collapsed": false,
     "input": [
      "LM = np.diag([1 - x for x in [0.5, 0.1, 0.4, 0.6]], -1)\n",
      "LM[0] = [0, 0.6, 0.4, 0.2, 0]\n",
      "display(sympy.Matrix(LM))"
     ],
     "language": "python",
     "metadata": {},
     "outputs": [
      {
       "latex": [
        "$$\\left[\\begin{matrix}0.0 & 0.6 & 0.4 & 0.2 & 0.0\\\\0.5 & 0.0 & 0.0 & 0.0 & 0.0\\\\0.0 & 0.9 & 0.0 & 0.0 & 0.0\\\\0.0 & 0.0 & 0.6 & 0.0 & 0.0\\\\0.0 & 0.0 & 0.0 & 0.4 & 0.0\\end{matrix}\\right]$$"
       ],
       "metadata": {},
       "output_type": "display_data",
       "text": [
        "\u23a10.0  0.6  0.4  0.2  0.0\u23a4\n",
        "\u23a2                       \u23a5\n",
        "\u23a20.5  0.0  0.0  0.0  0.0\u23a5\n",
        "\u23a2                       \u23a5\n",
        "\u23a20.0  0.9  0.0  0.0  0.0\u23a5\n",
        "\u23a2                       \u23a5\n",
        "\u23a20.0  0.0  0.6  0.0  0.0\u23a5\n",
        "\u23a2                       \u23a5\n",
        "\u23a30.0  0.0  0.0  0.4  0.0\u23a6"
       ]
      }
     ],
     "prompt_number": 12
    },
    {
     "cell_type": "code",
     "collapsed": false,
     "input": [
      "xs = np.array([50, 300, 200, 50, 10])\n",
      "\n",
      "LMs = [np.linalg.matrix_power(LM, i) for i in xrange(1, 10)]\n",
      "ys = np.array([xs] + [m.dot(xs) for m in LMs])\n",
      "\n",
      "polys = plt.stackplot(np.arange(100, step=10), ys.T)\n",
      "\n",
      "# workaround to get legend showing in Matplotlib stackplot http://stackoverflow.com/a/18449695\n",
      "lines = []\n",
      "for poly in polys:\n",
      "    lines.append(plt.Rectangle((0, 0), 1, 1, fc=poly.get_facecolor()[0]))\n",
      "plt.legend(lines, ['$0-10$', '$10-20$', '$20-30$', '$30-40$', '$40-50$'])\n",
      "\n",
      "plt.xlabel('Time (years)')\n",
      "plt.ylabel('Population')"
     ],
     "language": "python",
     "metadata": {},
     "outputs": [
      {
       "metadata": {},
       "output_type": "pyout",
       "prompt_number": 13,
       "text": [
        "<matplotlib.text.Text at 0x17289b00>"
       ]
      },
      {
       "metadata": {},
       "output_type": "display_data",
       "png": "[encoded data removed]",
       "text": [
        "<matplotlib.figure.Figure at 0x14f6f2b0>"
       ]
      }
     ],
     "prompt_number": 13
    },
    {
     "cell_type": "heading",
     "level": 2,
     "metadata": {},
     "source": [
      "References"
     ]
    },
    {
     "cell_type": "markdown",
     "metadata": {},
     "source": [
      "*  Hubbard, John H., and Barbara Burke Hubbard. _Vector Calculus, Linear Algebra, and Differential Forms: A Unified Approach_. Upper Saddle River, N.J.: Prentice Hall, 1999.\n",
      "* Meyer, C. D. _Matrix Analysis and Applied Linear Algebra_. Philadelphia: Society for Industrial and Applied Mathematics, 2000."
     ]
    }
   ],
   "metadata": {}
  }
 ]
}