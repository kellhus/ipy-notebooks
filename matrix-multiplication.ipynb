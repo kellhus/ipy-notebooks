{
 "metadata": {
  "name": "",
  "signature": "sha256:ba053c1c1cf0f2180989a3b9923abf490e7ed22a0ca9e8842855c5c8a5f8610c"
 },
 "nbformat": 3,
 "nbformat_minor": 0,
 "worksheets": [
  {
   "cells": [
    {
     "cell_type": "heading",
     "level": 1,
     "metadata": {},
     "source": [
      "Matrix Multiplication: Motivation and simple applications"
     ]
    },
    {
     "cell_type": "markdown",
     "metadata": {},
     "source": [
      "Perform the necessary imports and initializations:"
     ]
    },
    {
     "cell_type": "code",
     "collapsed": false,
     "input": [
      "import sympy\n",
      "import numpy as np\n",
      "import networkx as nx\n",
      "import matplotlib.pyplot as plt\n",
      "import pandas as pd\n",
      "from IPython.display import display\n",
      "\n",
      "sympy.init_printing(use_latex='mathjax')\n",
      "plt.style.use('ggplot')"
     ],
     "language": "python",
     "metadata": {},
     "outputs": [],
     "prompt_number": 1
    },
    {
     "cell_type": "code",
     "collapsed": false,
     "input": [
      "%matplotlib inline"
     ],
     "language": "python",
     "metadata": {},
     "outputs": [],
     "prompt_number": 2
    },
    {
     "cell_type": "heading",
     "level": 2,
     "metadata": {},
     "source": [
      "Motivation of the definition of matrix multiplication"
     ]
    },
    {
     "cell_type": "markdown",
     "metadata": {},
     "source": [
      "The definition of matrix multiplication naturally arises from composing linear functions or, as they are usually called, linear transformations.\n",
      "\n",
      "Consider two such linear transformations from $\\mathbb{R}^2$ to $\\mathbb{R}^2$:\n",
      "\n",
      "$$T_1 \\colon (x_1, x_2) \\mapsto (ax_1 + bx_2, cx_1 + dx_2)$$\n",
      "$$T_2 \\colon (x_1, x_2) \\mapsto (Ax_1 + Bx_2, Cx_1 + Dx_2)$$\n",
      "\n",
      "What if we wanted to compose these two linear transformations? In other words, what if we wanted another linear transformation $T_3 = T_1 \\circ T_2$? We could do it manually:\n",
      "\n",
      "$$T_3\\begin{pmatrix} x_1 \\\\ x_2 \\end{pmatrix} = T_1\\left(T_2\\begin{pmatrix} x_1 \\\\ x_2 \\end{pmatrix}\\right) =  T_1\\begin{pmatrix} Ax_1 + Bx_2 \\\\ Cx_1 + Dx_2 \\end{pmatrix} = \\\\ \\begin{pmatrix} a(Ax_1 + Bx_2) + b(Cx_1 + Dx_2) \\\\ c(Ax_1 + Bx_2) + d(Cx_1 + Dx_2) \\end{pmatrix} = \\begin{pmatrix} aAx_1 + aBx_2 + bCx_1 + bDx_2 \\\\ cAx_1 + cBx_2 + dCx_1 + dDx_2 \\end{pmatrix} = \\begin{pmatrix} (aA + bC)x_1 + (aB + bD)x_2 \\\\ (cA + dC)x_1 + (cB + dD)x_2 \\end{pmatrix}$$"
     ]
    },
    {
     "cell_type": "markdown",
     "metadata": {},
     "source": [
      "Or we could use matrices of coefficients to represent these linear transformations. Multiplying the column $\\begin{pmatrix} x_1 \\\\ x_2 \\end{pmatrix}$ by the respective matrices $\\begin{pmatrix}a & b\\\\c & d\\end{pmatrix}$ and $\\begin{pmatrix}A & B\\\\C & D\\end{pmatrix}$ produces the desired output:"
     ]
    },
    {
     "cell_type": "code",
     "collapsed": false,
     "input": [
      "a, b, c, d, A, B, C, D = sympy.symbols('a, b, c, d, A, B, C, D')\n",
      "x1, x2 = sympy.symbols('x1, x2')\n",
      "\n",
      "T1 = sympy.Matrix([[a, b], [c, d]])\n",
      "T2 = sympy.Matrix([[A, B], [C, D]])\n",
      "xs = sympy.Matrix([[x1], [x2]])\n",
      "\n",
      "display(T1 * xs)\n",
      "display(T2 * xs)"
     ],
     "language": "python",
     "metadata": {},
     "outputs": [
      {
       "latex": [
        "$$\\left[\\begin{matrix}a x_{1} + b x_{2}\\\\c x_{1} + d x_{2}\\end{matrix}\\right]$$"
       ],
       "metadata": {},
       "output_type": "display_data",
       "text": [
        "\u23a1a\u22c5x\u2081 + b\u22c5x\u2082\u23a4\n",
        "\u23a2           \u23a5\n",
        "\u23a3c\u22c5x\u2081 + d\u22c5x\u2082\u23a6"
       ]
      },
      {
       "latex": [
        "$$\\left[\\begin{matrix}A x_{1} + B x_{2}\\\\C x_{1} + D x_{2}\\end{matrix}\\right]$$"
       ],
       "metadata": {},
       "output_type": "display_data",
       "text": [
        "\u23a1A\u22c5x\u2081 + B\u22c5x\u2082\u23a4\n",
        "\u23a2           \u23a5\n",
        "\u23a3C\u22c5x\u2081 + D\u22c5x\u2082\u23a6"
       ]
      }
     ],
     "prompt_number": 3
    },
    {
     "cell_type": "markdown",
     "metadata": {},
     "source": [
      "The matrix of the composition $T_1 \\circ T_2$ is then precisely the product of the matrices of the individual linear transformations $T_1$ and $T_2$:"
     ]
    },
    {
     "cell_type": "code",
     "collapsed": false,
     "input": [
      "display(T1 * T2)"
     ],
     "language": "python",
     "metadata": {},
     "outputs": [
      {
       "latex": [
        "$$\\left[\\begin{matrix}A a + C b & B a + D b\\\\A c + C d & B c + D d\\end{matrix}\\right]$$"
       ],
       "metadata": {},
       "output_type": "display_data",
       "text": [
        "\u23a1A\u22c5a + C\u22c5b  B\u22c5a + D\u22c5b\u23a4\n",
        "\u23a2                    \u23a5\n",
        "\u23a3A\u22c5c + C\u22c5d  B\u22c5c + D\u22c5d\u23a6"
       ]
      }
     ],
     "prompt_number": 4
    },
    {
     "cell_type": "heading",
     "level": 2,
     "metadata": {},
     "source": [
      "Some applications of matrix multiplication"
     ]
    },
    {
     "cell_type": "heading",
     "level": 3,
     "metadata": {},
     "source": [
      "Counting routes"
     ]
    },
    {
     "cell_type": "markdown",
     "metadata": {},
     "source": [
      "Suppose we have four cities $A$, $B$, $C$ and $D$. Each city is connected to some other cities by directed routes, as shown by the graph below:"
     ]
    },
    {
     "cell_type": "code",
     "collapsed": false,
     "input": [
      "G = nx.DiGraph()\n",
      "G.add_edges_from([('A', 'B'), ('B', 'C'), ('C', 'D'), ('D', 'A'), ('A', 'C'), ('C', 'A')])\n",
      "pos = {'A': (0, 1), 'B': (1, 1), 'C': (1, 0), 'D': (0, 0)}\n",
      "nx.draw_networkx_labels(G, pos, font_size=18, font_family='sans-serif')\n",
      "nx.draw(G, pos, node_size=1500, node_color='yellowgreen')"
     ],
     "language": "python",
     "metadata": {},
     "outputs": [
      {
       "metadata": {},
       "output_type": "display_data",
       "png": "[encoded data removed]",
       "text": [
        "<matplotlib.figure.Figure at 0x151a5358>"
       ]
      }
     ],
     "prompt_number": 5
    },
    {
     "cell_type": "markdown",
     "metadata": {},
     "source": [
      "How many routes of length $n$ are there from a given city to a second city? We can answer this question by raising the _adjacency matrix_ of the graph to the $n$th power. In the adjacency matrix, the $i$,$j$th entry is $1$ if there is a route from city $i$ to city $j$, and $0$ if not. Set $A \\mapsto 0$, $B \\mapsto 1$ (and so on) in our graph and extract the adjacency matrix:"
     ]
    },
    {
     "cell_type": "code",
     "collapsed": false,
     "input": [
      "def prettify(m, names):\n",
      "    pm = pd.DataFrame(m)\n",
      "    pm.columns, pm.index = [names] * 2\n",
      "    return pm\n",
      "\n",
      "cities = ['A', 'B', 'C', 'D']\n",
      "A = nx.adjacency_matrix(G, nodelist=cities).todense()\n",
      "\n",
      "display(prettify(A, cities))"
     ],
     "language": "python",
     "metadata": {},
     "outputs": [
      {
       "html": [
        "<div style=\"max-height:1000px;max-width:1500px;overflow:auto;\">\n",
        "<table border=\"1\" class=\"dataframe\">\n",
        "  <thead>\n",
        "    <tr style=\"text-align: right;\">\n",
        "      <th></th>\n",
        "      <th>A</th>\n",
        "      <th>B</th>\n",
        "      <th>C</th>\n",
        "      <th>D</th>\n",
        "    </tr>\n",
        "  </thead>\n",
        "  <tbody>\n",
        "    <tr>\n",
        "      <th>A</th>\n",
        "      <td> 0</td>\n",
        "      <td> 1</td>\n",
        "      <td> 1</td>\n",
        "      <td> 0</td>\n",
        "    </tr>\n",
        "    <tr>\n",
        "      <th>B</th>\n",
        "      <td> 0</td>\n",
        "      <td> 0</td>\n",
        "      <td> 1</td>\n",
        "      <td> 0</td>\n",
        "    </tr>\n",
        "    <tr>\n",
        "      <th>C</th>\n",
        "      <td> 1</td>\n",
        "      <td> 0</td>\n",
        "      <td> 0</td>\n",
        "      <td> 1</td>\n",
        "    </tr>\n",
        "    <tr>\n",
        "      <th>D</th>\n",
        "      <td> 1</td>\n",
        "      <td> 0</td>\n",
        "      <td> 0</td>\n",
        "      <td> 0</td>\n",
        "    </tr>\n",
        "  </tbody>\n",
        "</table>\n",
        "</div>"
       ],
       "metadata": {},
       "output_type": "display_data",
       "text": [
        "   A  B  C  D\n",
        "A  0  1  1  0\n",
        "B  0  0  1  0\n",
        "C  1  0  0  1\n",
        "D  1  0  0  0"
       ]
      }
     ],
     "prompt_number": 6
    },
    {
     "cell_type": "markdown",
     "metadata": {},
     "source": [
      "And now, how many routes of length exactly $10$ are there from $A$ to $B$? Apparently, twenty-eight:"
     ]
    },
    {
     "cell_type": "code",
     "collapsed": false,
     "input": [
      "display(prettify(np.linalg.matrix_power(A, 10), cities))"
     ],
     "language": "python",
     "metadata": {},
     "outputs": [
      {
       "html": [
        "<div style=\"max-height:1000px;max-width:1500px;overflow:auto;\">\n",
        "<table border=\"1\" class=\"dataframe\">\n",
        "  <thead>\n",
        "    <tr style=\"text-align: right;\">\n",
        "      <th></th>\n",
        "      <th>A</th>\n",
        "      <th>B</th>\n",
        "      <th>C</th>\n",
        "      <th>D</th>\n",
        "    </tr>\n",
        "  </thead>\n",
        "  <tbody>\n",
        "    <tr>\n",
        "      <th>A</th>\n",
        "      <td> 44</td>\n",
        "      <td> 28</td>\n",
        "      <td> 45</td>\n",
        "      <td> 27</td>\n",
        "    </tr>\n",
        "    <tr>\n",
        "      <th>B</th>\n",
        "      <td> 27</td>\n",
        "      <td> 17</td>\n",
        "      <td> 28</td>\n",
        "      <td> 17</td>\n",
        "    </tr>\n",
        "    <tr>\n",
        "      <th>C</th>\n",
        "      <td> 45</td>\n",
        "      <td> 27</td>\n",
        "      <td> 44</td>\n",
        "      <td> 28</td>\n",
        "    </tr>\n",
        "    <tr>\n",
        "      <th>D</th>\n",
        "      <td> 28</td>\n",
        "      <td> 17</td>\n",
        "      <td> 27</td>\n",
        "      <td> 17</td>\n",
        "    </tr>\n",
        "  </tbody>\n",
        "</table>\n",
        "</div>"
       ],
       "metadata": {},
       "output_type": "display_data",
       "text": [
        "    A   B   C   D\n",
        "A  44  28  45  27\n",
        "B  27  17  28  17\n",
        "C  45  27  44  28\n",
        "D  28  17  27  17"
       ]
      }
     ],
     "prompt_number": 7
    },
    {
     "cell_type": "heading",
     "level": 3,
     "metadata": {},
     "source": [
      "Transformation matrices for 2D arrays"
     ]
    },
    {
     "cell_type": "markdown",
     "metadata": {},
     "source": [
      "[Transformation matrices](http://en.wikipedia.org/wiki/Transformation_matrix) can be used to illustrate the noncommutative property of matrix multiplication. Rotating and then reflecting about the $y$-axis is not the same as reflecting about the $x$-axis and then rotating."
     ]
    },
    {
     "cell_type": "code",
     "collapsed": false,
     "input": [
      "original = np.array([[0, -1, 1, 0],    # xs\n",
      "                     [3, -1, -1, 3]])  # ys\n",
      "\n",
      "theta = np.deg2rad(-45)\n",
      "rotation_matrix = np.array([[np.cos(theta), -np.sin(theta)],\n",
      "                            [np.sin(theta), np.cos(theta)]])\n",
      "reflection_matrix = np.array([[1, 0],\n",
      "                              [0, -1]])\n",
      "\n",
      "rotated = rotation_matrix.dot(original)\n",
      "reflected_and_rotated = rotation_matrix.dot(reflection_matrix).dot(original)\n",
      "rotated_and_reflected = reflection_matrix.dot(rotation_matrix).dot(original)\n",
      "\n",
      "titles = ['Original', 'Rotated', 'Reflected and rotated', 'Rotated and reflected']\n",
      "xys = [original, rotated, reflected_and_rotated, rotated_and_reflected]\n",
      "\n",
      "for i, (title, xy) in enumerate(zip(titles, xys)):\n",
      "    plt.subplot(2, 2, i + 1, aspect='equal')\n",
      "    plt.plot(xy[0], xy[1], 'o-')\n",
      "    plt.axis([-4, 4, -4, 4])\n",
      "    plt.title(title)\n",
      "\n",
      "plt.tight_layout()"
     ],
     "language": "python",
     "metadata": {},
     "outputs": [
      {
       "metadata": {},
       "output_type": "display_data",
       "png": "[encoded data removed]",
       "text": [
        "<matplotlib.figure.Figure at 0x226eba8>"
       ]
      }
     ],
     "prompt_number": 8
    }
   ],
   "metadata": {}
  }
 ]
}