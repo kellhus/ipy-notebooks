{
 "metadata": {
  "name": "",
  "signature": "sha256:50e45dd245928b9ce8fb156f9cbbbd63758eca0710f39ca5d0a1230ef5eac634"
 },
 "nbformat": 3,
 "nbformat_minor": 0,
 "worksheets": [
  {
   "cells": [
    {
     "cell_type": "heading",
     "level": 1,
     "metadata": {},
     "source": [
      "Matrix Multiplication: Motivation and simple applications"
     ]
    },
    {
     "cell_type": "markdown",
     "metadata": {},
     "source": [
      "* [Motivation of the definition of matrix multiplication](#Motivation-of-the-definition-of-matrix-multiplication)\n",
      "* [Some applications of matrix multiplication](#Some-applications-of-matrix-multiplication)\n",
      "    - [Counting routes](#Counting-routes)\n",
      "    - [Transformation matrices for 2D arrays](#Transformation-matrices-for-2D-arrays)\n",
      "    - [Matrices and probabilities](#Matrices-and-probabilities)\n",
      "* [References](#References)"
     ]
    },
    {
     "cell_type": "markdown",
     "metadata": {},
     "source": [
      "Perform the necessary imports and initializations:"
     ]
    },
    {
     "cell_type": "code",
     "collapsed": false,
     "input": [
      "import sympy\n",
      "import numpy as np\n",
      "import networkx as nx\n",
      "import matplotlib.pyplot as plt\n",
      "import pandas as pd\n",
      "import itertools\n",
      "from IPython.display import display\n",
      "from __future__ import division\n",
      "\n",
      "sympy.init_printing(use_latex='mathjax')\n",
      "plt.style.use('ggplot')"
     ],
     "language": "python",
     "metadata": {},
     "outputs": [],
     "prompt_number": 1
    },
    {
     "cell_type": "code",
     "collapsed": false,
     "input": [
      "%matplotlib inline"
     ],
     "language": "python",
     "metadata": {},
     "outputs": []
    },
    {
     "cell_type": "heading",
     "level": 2,
     "metadata": {},
     "source": [
      "Motivation of the definition of matrix multiplication"
     ]
    },
    {
     "cell_type": "markdown",
     "metadata": {},
     "source": [
      "The definition of matrix multiplication naturally arises from composing linear functions or, as they are usually called, linear transformations.\n",
      "\n",
      "Consider two such linear transformations from $\\mathbb{R}^2$ to $\\mathbb{R}^2$:\n",
      "\n",
      "$$T_1 \\colon (x_1, x_2) \\mapsto (ax_1 + bx_2, cx_1 + dx_2)$$\n",
      "$$T_2 \\colon (x_1, x_2) \\mapsto (Ax_1 + Bx_2, Cx_1 + Dx_2)$$\n",
      "\n",
      "What if we wanted to compose these two linear transformations? In other words, what if we wanted another linear transformation $T_3 = T_1 \\circ T_2$? We could do it manually:\n",
      "\n",
      "$$T_3\\begin{pmatrix} x_1 \\\\ x_2 \\end{pmatrix} = T_1\\left(T_2\\begin{pmatrix} x_1 \\\\ x_2 \\end{pmatrix}\\right) =  T_1\\begin{pmatrix} Ax_1 + Bx_2 \\\\ Cx_1 + Dx_2 \\end{pmatrix} = \\\\ \\begin{pmatrix} a(Ax_1 + Bx_2) + b(Cx_1 + Dx_2) \\\\ c(Ax_1 + Bx_2) + d(Cx_1 + Dx_2) \\end{pmatrix} = \\begin{pmatrix} aAx_1 + aBx_2 + bCx_1 + bDx_2 \\\\ cAx_1 + cBx_2 + dCx_1 + dDx_2 \\end{pmatrix} = \\begin{pmatrix} (aA + bC)x_1 + (aB + bD)x_2 \\\\ (cA + dC)x_1 + (cB + dD)x_2 \\end{pmatrix}$$"
     ]
    },
    {
     "cell_type": "markdown",
     "metadata": {},
     "source": [
      "Or we could use matrices of coefficients to represent these linear transformations. Multiplying the column $\\begin{pmatrix} x_1 \\\\ x_2 \\end{pmatrix}$ by the respective matrices $\\begin{pmatrix}a & b\\\\c & d\\end{pmatrix}$ and $\\begin{pmatrix}A & B\\\\C & D\\end{pmatrix}$ produces the desired output:"
     ]
    },
    {
     "cell_type": "code",
     "collapsed": false,
     "input": [
      "a, b, c, d, A, B, C, D = sympy.symbols('a, b, c, d, A, B, C, D')\n",
      "x1, x2 = sympy.symbols('x1, x2')\n",
      "\n",
      "T1 = sympy.Matrix([[a, b], [c, d]])\n",
      "T2 = sympy.Matrix([[A, B], [C, D]])\n",
      "xs = sympy.Matrix([[x1], [x2]])\n",
      "\n",
      "display(T1 * xs)\n",
      "display(T2 * xs)"
     ],
     "language": "python",
     "metadata": {},
     "outputs": []
    },
    {
     "cell_type": "markdown",
     "metadata": {},
     "source": [
      "The matrix of the composition $T_1 \\circ T_2$ is then precisely the product of the matrices of the individual linear transformations $T_1$ and $T_2$:"
     ]
    },
    {
     "cell_type": "code",
     "collapsed": false,
     "input": [
      "display(T1 * T2)"
     ],
     "language": "python",
     "metadata": {},
     "outputs": []
    },
    {
     "cell_type": "heading",
     "level": 2,
     "metadata": {},
     "source": [
      "Some applications of matrix multiplication"
     ]
    },
    {
     "cell_type": "heading",
     "level": 3,
     "metadata": {},
     "source": [
      "Counting routes"
     ]
    },
    {
     "cell_type": "markdown",
     "metadata": {},
     "source": [
      "Suppose we have four cities $A$, $B$, $C$ and $D$. Each city is connected to some other cities by directed routes, as shown by the graph below:"
     ]
    },
    {
     "cell_type": "code",
     "collapsed": false,
     "input": [
      "G = nx.DiGraph()\n",
      "G.add_edges_from([('A', 'B'), ('B', 'C'), ('C', 'D'), ('D', 'A'), ('A', 'C'), ('C', 'A')])\n",
      "pos = {'A': (0, 1), 'B': (1, 1), 'C': (1, 0), 'D': (0, 0)}\n",
      "nx.draw_networkx_labels(G, pos, font_size=18, font_family='sans-serif')\n",
      "nx.draw(G, pos, node_size=1500, node_color='yellowgreen')"
     ],
     "language": "python",
     "metadata": {},
     "outputs": []
    },
    {
     "cell_type": "markdown",
     "metadata": {},
     "source": [
      "How many routes of length $n$ are there from a given city to a second city? We can answer this question by raising the _adjacency matrix_ of the graph to the $n$th power. In the adjacency matrix, the $i$,$j$th entry is $1$ if there is a route from city $i$ to city $j$, and $0$ if not. Set $A \\mapsto 0$, $B \\mapsto 1$ (and so on) in our graph and extract the adjacency matrix:"
     ]
    },
    {
     "cell_type": "code",
     "collapsed": false,
     "input": [
      "def prettify(m, names):\n",
      "    pm = pd.DataFrame(m)\n",
      "    pm.columns, pm.index = [names] * 2\n",
      "    return pm\n",
      "\n",
      "cities = ['A', 'B', 'C', 'D']\n",
      "A = nx.adjacency_matrix(G, nodelist=cities).todense()\n",
      "\n",
      "display(prettify(A, cities))"
     ],
     "language": "python",
     "metadata": {},
     "outputs": []
    },
    {
     "cell_type": "markdown",
     "metadata": {},
     "source": [
      "And now, how many routes of length exactly $10$ are there from $A$ to $B$? Apparently, twenty-eight:"
     ]
    },
    {
     "cell_type": "code",
     "collapsed": false,
     "input": [
      "display(prettify(np.linalg.matrix_power(A, 10), cities))"
     ],
     "language": "python",
     "metadata": {},
     "outputs": []
    },
    {
     "cell_type": "heading",
     "level": 3,
     "metadata": {},
     "source": [
      "Transformation matrices for 2D arrays"
     ]
    },
    {
     "cell_type": "markdown",
     "metadata": {},
     "source": [
      "[Transformation matrices](http://en.wikipedia.org/wiki/Transformation_matrix) can be used to illustrate the noncommutative property of matrix multiplication. Rotating and then reflecting about the $x$-axis is not the same as reflecting about the $x$-axis and then rotating."
     ]
    },
    {
     "cell_type": "code",
     "collapsed": false,
     "input": [
      "original = np.array([[0, -1, 1, 0],    # xs\n",
      "                     [3, -1, -1, 3]])  # ys\n",
      "\n",
      "theta = np.deg2rad(-45)\n",
      "rotation_matrix = np.array([[np.cos(theta), -np.sin(theta)],\n",
      "                            [np.sin(theta), np.cos(theta)]])\n",
      "reflection_matrix = np.array([[1, 0],\n",
      "                              [0, -1]])\n",
      "\n",
      "rotated = rotation_matrix.dot(original)\n",
      "reflected_and_rotated = rotation_matrix.dot(reflection_matrix).dot(original)\n",
      "rotated_and_reflected = reflection_matrix.dot(rotation_matrix).dot(original)\n",
      "\n",
      "titles = ['Original', 'Rotated', 'Reflected and rotated', 'Rotated and reflected']\n",
      "xys = [original, rotated, reflected_and_rotated, rotated_and_reflected]\n",
      "\n",
      "for i, (title, xy) in enumerate(zip(titles, xys)):\n",
      "    plt.subplot(2, 2, i + 1, aspect='equal')\n",
      "    plt.plot(xy[0], xy[1], 'o-')\n",
      "    plt.axis([-4, 4, -4, 4])\n",
      "    plt.title(title)\n",
      "\n",
      "plt.tight_layout()"
     ],
     "language": "python",
     "metadata": {},
     "outputs": []
    },
    {
     "cell_type": "heading",
     "level": 3,
     "metadata": {},
     "source": [
      "Matrices and probabilities"
     ]
    },
    {
     "cell_type": "markdown",
     "metadata": {},
     "source": [
      "As a variant of the problem of counting routes, consider transition matrices associated with weighted graphs. Suppose we have three books on a shelf: _A Treatise on the Binomial Theorem_, _The Book of Sand_, and _The Prima Arcanata_. Each time we enjoy one of these books, we put it back on the shelf at the far right. Consider a map of these books to $\\{1,2,3\\}$, respectively. There are six possible arrangements:"
     ]
    },
    {
     "cell_type": "code",
     "collapsed": false,
     "input": [
      "arrangements = [''.join(x) for x in itertools.permutations('123', 3)]\n",
      "print arrangements"
     ],
     "language": "python",
     "metadata": {},
     "outputs": []
    },
    {
     "cell_type": "markdown",
     "metadata": {},
     "source": [
      "When we want to read one of the books, the probability that we want to read the _Treatise_ is $\\frac{2}{3}$, the probability that we want to read _The Book of Sand_ is $\\frac{1}{4}$, and the probability that we want to read _The Prima Arcanata_ is $\\frac{1}{12}$. Let's construct the $6 \\times 6$ transition matrix:"
     ]
    },
    {
     "cell_type": "code",
     "collapsed": false,
     "input": [
      "probability_dict = {'1': 2/3, '2': 1/4, '3': 1/12}\n",
      "\n",
      "def compute_cell((x1, x2, x3), y):\n",
      "    xs = [''.join(x) for x in [(x1, x2, x3), (x1, x3, x2), (x2, x3, x1)]]\n",
      "    return probability_dict[y[2]] if y in xs else 0\n",
      "        \n",
      "\n",
      "transition_matrix = np.array([[compute_cell(x, y) for y in arrangements] for x in arrangements])\n",
      "\n",
      "print prettify(transition_matrix, arrangements)"
     ],
     "language": "python",
     "metadata": {},
     "outputs": []
    },
    {
     "cell_type": "markdown",
     "metadata": {},
     "source": [
      "Suppose now that we start from some specific arrangement, say, $(2,3,1)$. What are the probabilities of the individual arrangements after we have read four books?"
     ]
    },
    {
     "cell_type": "code",
     "collapsed": false,
     "input": [
      "print prettify(np.linalg.matrix_power(transition_matrix, 4), arrangements)"
     ],
     "language": "python",
     "metadata": {},
     "outputs": []
    },
    {
     "cell_type": "markdown",
     "metadata": {},
     "source": [
      "These probabilities are in the `231` row. It is easy to verify that they sum to unity."
     ]
    },
    {
     "cell_type": "heading",
     "level": 2,
     "metadata": {},
     "source": [
      "References"
     ]
    },
    {
     "cell_type": "markdown",
     "metadata": {},
     "source": [
      "*  Hubbard, John H., and Barbara Burke Hubbard. _Vector Calculus, Linear Algebra, and Differential Forms: A Unified Approach_. Upper Saddle River, N.J.: Prentice Hall, 1999.\n",
      "* Meyer, C. D. _Matrix Analysis and Applied Linear Algebra_. Philadelphia: Society for Industrial and Applied Mathematics, 2000."
     ]
    }
   ],
   "metadata": {}
  }
 ]
}